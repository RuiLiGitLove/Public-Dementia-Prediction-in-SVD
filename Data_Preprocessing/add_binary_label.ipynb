{
 "cells": [
  {
   "cell_type": "code",
   "execution_count": 1,
   "metadata": {},
   "outputs": [],
   "source": [
    "import sys; sys.path.insert(0, '..')\n",
    "import numpy as np\n",
    "import pandas as pd\n",
    "import matplotlib.pyplot as plt"
   ]
  },
  {
   "cell_type": "markdown",
   "metadata": {},
   "source": [
    "## Add 3-year dementia outcome label"
   ]
  },
  {
   "cell_type": "markdown",
   "metadata": {},
   "source": [
    "#### For RUN DMC, SCANS and HARMONISATION"
   ]
  },
  {
   "cell_type": "code",
   "execution_count": null,
   "metadata": {},
   "outputs": [],
   "source": [
    "from Utils.data_preparation import adjust_skewness_for_dataframe\n",
    "\n",
    "## Specify the correct filepath and cohort number\n",
    "output_df = pd.read_csv('/Users/lirui/Downloads/Cohort_Dementia_Prediction/Cohort_Data/Selected_Data/Data_6.0/original_data/complete_SCANS_121_subjects.csv')\n",
    "cohort_number = 2\n",
    "\n",
    "output_df.insert(0, \"cohort\", pd.DataFrame([cohort_number]*output_df.shape[0]))\n",
    "output_df['cohort_dementia_final'] = output_df['cohort'].astype(str) + \"_\" + output_df['dementia_final'].astype(str)\n",
    "\n",
    "# Select a duration (T) of interest\n",
    "for T in [3,4]:\n",
    "    dementia_label = 'dementia_{}yr'.format(str(T))\n",
    "    output_df[dementia_label] = pd.NA\n",
    "\n",
    "    output_df['int_T_survival'] = output_df['T_survival'].round()\n",
    "    for i in range(output_df.shape[0]):\n",
    "        this_patient_data = output_df.loc[i]\n",
    "        demented_within_N = (this_patient_data['dementia_final']==1) and (this_patient_data['int_T_survival']<=T)\n",
    "        censored_after_N = (this_patient_data['dementia_final']==0) and (this_patient_data['int_T_survival']>=T)\n",
    "        demented_after_N = (this_patient_data['dementia_final']==1) and (this_patient_data['int_T_survival']>T)\n",
    "        censored_within_N = (this_patient_data['dementia_final']==0) and (this_patient_data['int_T_survival']<T)\n",
    "\n",
    "        if demented_within_N:\n",
    "            output_df.loc[i, dementia_label] = 1\n",
    "        elif (censored_after_N or demented_after_N):\n",
    "            output_df.loc[i, dementia_label] = 0\n",
    "\n",
    "    output_df['cohort_'+dementia_label] = output_df['cohort'].astype(str) + \"_\" + output_df[dementia_label].astype(str)\n",
    "\n",
    "output_df = adjust_skewness_for_dataframe(output_df)\n",
    "\n",
    "# Add binarised CMB\n",
    "mb_bin = []\n",
    "for num in output_df['num_mb']:\n",
    "    if pd.isna(num) or num==0:\n",
    "        mb_bin.append(num)\n",
    "    elif num>0:\n",
    "        mb_bin.append(1)\n",
    "    else:\n",
    "        print('Error value')\n",
    "print(np.unique(mb_bin))\n",
    "output_df['mb_bin'] = mb_bin\n",
    "\n",
    "# Add GM Fraction\n",
    "output_df['GMF'] = output_df['GM_vol_ml']/output_df['TBV_ml']\n",
    "print(output_df.shape)\n",
    "output_df.head()"
   ]
  },
  {
   "cell_type": "code",
   "execution_count": 7,
   "metadata": {},
   "outputs": [],
   "source": [
    "output_df.to_csv('/Users/lirui/Downloads/Cohort_Dementia_Prediction/Cohort_Data/Selected_Data/Data_6.0/augmented_data/augmented_complete_SCANS_121_subjects.csv', index=False)"
   ]
  }
 ],
 "metadata": {
  "kernelspec": {
   "display_name": "Python 3.10.0 64-bit",
   "language": "python",
   "name": "python3"
  },
  "language_info": {
   "codemirror_mode": {
    "name": "ipython",
    "version": 3
   },
   "file_extension": ".py",
   "mimetype": "text/x-python",
   "name": "python",
   "nbconvert_exporter": "python",
   "pygments_lexer": "ipython3",
   "version": "3.10.0"
  },
  "orig_nbformat": 4,
  "vscode": {
   "interpreter": {
    "hash": "aee8b7b246df8f9039afb4144a1f6fd8d2ca17a180786b69acc140d282b71a49"
   }
  }
 },
 "nbformat": 4,
 "nbformat_minor": 2
}
