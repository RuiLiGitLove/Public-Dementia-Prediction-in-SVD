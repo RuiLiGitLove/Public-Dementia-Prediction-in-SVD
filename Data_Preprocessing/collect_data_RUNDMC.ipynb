{
 "cells": [
  {
   "cell_type": "code",
   "execution_count": 1,
   "metadata": {},
   "outputs": [],
   "source": [
    "import sys; sys.path.insert(0, '..')\n",
    "\n",
    "import numpy as np\n",
    "import pandas as pd\n",
    "from preprocessing_utils import calculate_feature, adjust_skewness_for_dataframe"
   ]
  },
  {
   "cell_type": "markdown",
   "metadata": {},
   "source": [
    "#### Read in data and get variables needed"
   ]
  },
  {
   "cell_type": "code",
   "execution_count": null,
   "metadata": {},
   "outputs": [],
   "source": [
    "### Read in data ###\n",
    "run_dmc_long_data = pd.read_csv(\"/Users/lirui/Downloads/Cohort_Dementia_Prediction/Cohort_Data/RUN DMC/Handover_RUNDMC/run_long.csv\", header=0)\n",
    "long_patient_IDs = np.unique(np.array(run_dmc_long_data['ID']))\n",
    "no_long_patients = len(long_patient_IDs)\n",
    "print('There are %i patients'%no_long_patients)\n",
    "\n",
    "run_dmc_psmd_data = pd.read_csv(\"/Users/lirui/Downloads/Cohort_Dementia_Prediction/Cohort_Data/RUN DMC/Marco_Email_12_16_2021/RUN_dmc_all_year_psmd_geff_dseg.csv\", header=0)\n",
    "psmd_patient_IDs = np.unique(np.array(run_dmc_psmd_data['ID']))\n",
    "no_psmd_patients = len(psmd_patient_IDs)\n",
    "print('There are %i patients with psmd data'%no_psmd_patients)\n",
    "\n",
    "run_dmc_cog_data = pd.read_csv(\"/Users/lirui/Downloads/Cohort_Dementia_Prediction/Cohort_Data/RUN DMC/Marco_Email_12_21_2021/4Marco_Cognition_all_year_RUN_DMC.csv\", header=0)\n",
    "cog_patient_IDs = np.unique(np.array(run_dmc_cog_data['id']))\n",
    "no_cog_patients = len(cog_patient_IDs)\n",
    "print('There are %i patients with cognitive data'%no_cog_patients)\n",
    "\n",
    "### Sanity Check ###\n",
    "assert (set(cog_patient_IDs) - set(long_patient_IDs)) == set([]) # Check that the two datasets contain the same patients\n",
    "\n",
    "# Check whether psmd_patient_IDs are all in patient_IDs\n",
    "for idx, ID in enumerate(psmd_patient_IDs):\n",
    "    try:\n",
    "        (ID in long_patient_IDs) == True\n",
    "    except:\n",
    "        print('Patient %i does not exist in run_dmc_long_data!')\n",
    "        continue\n",
    "    # Check whether age, dementia1 are matched for all patients between longitudinal data and psmd data\n",
    "    run_dmc_patient_long_data = run_dmc_long_data.loc[(run_dmc_long_data['ID']==ID) & (run_dmc_long_data['year']==2006)]\n",
    "    long_age = run_dmc_patient_long_data.iloc[0]['age']\n",
    "    psmd_data = run_dmc_psmd_data.loc[(run_dmc_psmd_data['ID']==ID) & (run_dmc_psmd_data['year']==2006)]\n",
    "    psmd_age = psmd_data.iloc[0]['age']\n",
    "    \n",
    "    if (long_age-psmd_age < 1e-6) == False:\n",
    "        print(\"Age does not match for patient %i\"%ID)"
   ]
  },
  {
   "cell_type": "code",
   "execution_count": 3,
   "metadata": {},
   "outputs": [],
   "source": [
    "# Standardise values for baseline cognitiveindex, executivefunction, and psychomotorspeed\n",
    "columns_to_standardize = ['cognitiveindex06', 'psychomotorspeed06', 'executivefunction06']\n",
    "for column in columns_to_standardize:\n",
    "    values = run_dmc_cog_data[[column]]\n",
    "    run_dmc_cog_data[column+'_standardized'] = (values-values.mean())/values.std() # values.std() uses N-1 in denominator"
   ]
  },
  {
   "cell_type": "code",
   "execution_count": 4,
   "metadata": {},
   "outputs": [],
   "source": [
    "numeric_feature_dict = {\n",
    "    'WMH_vol_ml': ['WMH_ICV_ml'],\n",
    "    'WM_vol_ml': ['WMvolume'],\n",
    "    'GM_vol_ml': ['GMvolume'],\n",
    "    'num_lacunes':['lacnumb'],\n",
    "    'num_mb': ['mbnumb'],\n",
    "    'TBV_ml': ['TBvolume'],\n",
    "    'PSMD': ['PSMD'], # from PSMD file\n",
    "    'global_cog': ['cognitiveindex06'], # from cognitive file\n",
    "    'EF': ['executivefunction06'], # from cognitive file\n",
    "    'PS': ['psychomotorspeed06'], # from cognitive file\n",
    "    'age': ['age'],\n",
    "    'edu_yrs': ['educationyears'],\n",
    "    # Additional ones\n",
    "    'BMI': ['bmi'],\n",
    "    'SVDp': ['SVDp'],\n",
    "    'MMSE': ['MMSE'],\n",
    "    'tia': ['tia'],\n",
    "    'tiacount': ['tiacount'],\n",
    "    'ischemic_stroke': ['ischemic_stroke'],\n",
    "    'ischemic_count': ['ischemic_count'],\n",
    "    'hemorrhage': ['hemorrhage'],\n",
    "    'hemorrhage_count': ['hemorrhage_count'], \n",
    "    'unspecified_CVA': ['unspecified_CVA'], \n",
    "    'unspecified_CVA_count': ['unspecified_CVA_count'],\n",
    "    # Endpoints\n",
    "    'dementia_final': ['dementia1'],\n",
    "    'T_survival': ['time_dementia'],\n",
    "    'dementia_subtype': ['dementiacat']\n",
    "    \n",
    "}\n",
    "\n",
    "categorical_feature_dict = {\n",
    "    'sex': {\n",
    "        'name': 'gender',\n",
    "        'mapping':{\n",
    "            'Male': 0,\n",
    "            'Female': 1}\n",
    "    },\n",
    "    'HTN': {\n",
    "        'name': 'hypertension',\n",
    "        'mapping':{\n",
    "            'no HT': 0,\n",
    "            'HT': 1}\n",
    "    },\n",
    "    'HC': {\n",
    "        'name': 'hypercholesterolemia',\n",
    "        'mapping':{\n",
    "            'no HC': 0,\n",
    "            'HC': 1}\n",
    "    },\n",
    "    'diabetes': {\n",
    "        'name': 'diabetes',\n",
    "        'mapping':{\n",
    "            '0': 0,\n",
    "            '1': 1}\n",
    "    },\n",
    "    'smoking': {\n",
    "        'name': 'smokingstatus',\n",
    "        'mapping':{\n",
    "            'Never smoked': 0,\n",
    "            'Current smoker': 1,\n",
    "            'Former smoker': 1}\n",
    "    },\n",
    "    'depression': {\n",
    "        'name': 'Depressive_symptoms_2006',\n",
    "        'mapping':{\n",
    "            'geen depressieve symptomen': 0,\n",
    "            'depressieve symptomen (CESD ge 16 and/or use of antidepr)': 1}\n",
    "    }\n",
    "}    "
   ]
  },
  {
   "cell_type": "code",
   "execution_count": null,
   "metadata": {},
   "outputs": [],
   "source": [
    "output_data = []\n",
    "for idx, ID in enumerate(long_patient_IDs):\n",
    "    this_patient_output_data = {'ID': ID}\n",
    "    patient_long_data = run_dmc_long_data.loc[(run_dmc_long_data['ID']==ID) & (run_dmc_long_data['year']==2006)].iloc[0]\n",
    "\n",
    "    for output_feature in list(numeric_feature_dict.keys()):\n",
    "        if len(numeric_feature_dict[output_feature])>1: # combine features\n",
    "                operation = numeric_feature_dict[output_feature][0]\n",
    "                required_feature_names = numeric_feature_dict[output_feature][1:]\n",
    "                feature_value, contains_NA, NA_features = calculate_feature(operation, required_feature_names, patient_long_data, [], False, output_feature)\n",
    "        else:\n",
    "            if output_feature == 'PSMD':\n",
    "                try: # Need to do this because some patients in long_patient_IDs don't have PSMD\n",
    "                    feature_value = run_dmc_psmd_data.loc[(run_dmc_psmd_data['ID']==ID) & (run_dmc_psmd_data['year']==2006)]['PSMD'].iloc[0]\n",
    "                except:\n",
    "                    feature_value = pd.NA\n",
    "            elif output_feature in ['global_cog', 'EF', 'PS']:\n",
    "                feature_value = run_dmc_cog_data.loc[run_dmc_cog_data['id']==ID, numeric_feature_dict[output_feature][0]].iloc[0]\n",
    "            else:\n",
    "                feature_value = patient_long_data[numeric_feature_dict[output_feature][0]]\n",
    "        this_patient_output_data[output_feature] = feature_value\n",
    "\n",
    "    for output_feature in list(categorical_feature_dict.keys()):\n",
    "        orig_feature = categorical_feature_dict[output_feature]['name']\n",
    "        feature_cat = str(patient_long_data[orig_feature])\n",
    "        try:\n",
    "            feature_value = categorical_feature_dict[output_feature]['mapping'][feature_cat]\n",
    "        except: #If cannot be mapped, take the feature as it is.\n",
    "            feature_value = patient_long_data[orig_feature]\n",
    "        this_patient_output_data[output_feature] = feature_value\n",
    "\n",
    "    output_data.append(this_patient_output_data)\n",
    "\n",
    "output_df = pd.DataFrame(output_data)\n",
    "print(output_df.shape)\n",
    "output_df.head()"
   ]
  },
  {
   "cell_type": "markdown",
   "metadata": {},
   "source": [
    "### Save data"
   ]
  },
  {
   "cell_type": "code",
   "execution_count": 7,
   "id": "c884f8cd-f6b7-4659-b979-98bc6705e17f",
   "metadata": {},
   "outputs": [],
   "source": [
    "output_df.to_csv('/Users/lirui/Downloads/Cohort_Dementia_Prediction/Cohort_Data/Selected_Data/Data_6.0/original_data/complete_RUN_DMC_503_subjects.csv', index=False)"
   ]
  },
  {
   "cell_type": "markdown",
   "metadata": {},
   "source": [
    "### Check whether data is correct"
   ]
  },
  {
   "cell_type": "code",
   "execution_count": 9,
   "metadata": {},
   "outputs": [],
   "source": [
    "orig_data_long = run_dmc_long_data.loc[run_dmc_long_data['year']==2006].set_index('ID')\n",
    "orig_data_cog = run_dmc_cog_data.set_index('id')\n",
    "ID_list = list(output_df['ID'])\n",
    "\n",
    "assert orig_data_long.loc[ID_list,'SVDp'].to_list() == output_df['SVDp'].to_list()\n",
    "assert orig_data_long.loc[ID_list,'bmi'].to_list() == output_df['BMI'].to_list()\n",
    "assert orig_data_long.loc[ID_list,'dementia1'].to_list() == output_df['dementia_final'].to_list()\n",
    "# try:\n",
    "#     orig_data_cog.loc[ID_list,'cognitiveindex11'].to_list() == augmented_df['global_cog_5yr'].to_list()\n",
    "# except:\n",
    "#     print(np.where((orig_data_cog.loc[ID_list,'cognitiveindex11'].to_numpy() == augmented_df['global_cog_5yr'].to_numpy()) == False))"
   ]
  },
  {
   "cell_type": "code",
   "execution_count": null,
   "metadata": {},
   "outputs": [],
   "source": []
  }
 ],
 "metadata": {
  "kernelspec": {
   "display_name": "Python 3.10.0 64-bit",
   "language": "python",
   "name": "python3"
  },
  "language_info": {
   "codemirror_mode": {
    "name": "ipython",
    "version": 3
   },
   "file_extension": ".py",
   "mimetype": "text/x-python",
   "name": "python",
   "nbconvert_exporter": "python",
   "pygments_lexer": "ipython3",
   "version": "3.10.0"
  },
  "orig_nbformat": 4,
  "vscode": {
   "interpreter": {
    "hash": "aee8b7b246df8f9039afb4144a1f6fd8d2ca17a180786b69acc140d282b71a49"
   }
  }
 },
 "nbformat": 4,
 "nbformat_minor": 2
}
