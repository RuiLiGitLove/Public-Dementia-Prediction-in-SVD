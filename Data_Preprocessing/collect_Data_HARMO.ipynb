{
 "cells": [
  {
   "cell_type": "code",
   "execution_count": 1,
   "metadata": {},
   "outputs": [],
   "source": [
    "import numpy as np\n",
    "import pandas as pd\n",
    "from datetime import datetime\n",
    "from IPython.display import display\n",
    "from preprocessing_utils import calculate_feature, adjust_skewness_for_dataframe"
   ]
  },
  {
   "cell_type": "markdown",
   "metadata": {},
   "source": [
    "#### Merge complete longitudinal data with cognitive data (No Need to Run Again)"
   ]
  },
  {
   "cell_type": "code",
   "execution_count": null,
   "id": "49d7657e-5065-4701-bf35-ecd47752a786",
   "metadata": {},
   "outputs": [],
   "source": [
    "singapore_complete_data = pd.read_csv(\"/Users/lirui/Downloads/gmlvq-python-rui/OPTIMAL_Data/HARMONISATION/Handover_HARMO_all_available/Singapore_data_set_29_10.csv\", header=0, index_col=0)\n",
    "singapore_complete_data.index -= 1\n",
    "patient_IDs = np.unique(np.array(singapore_complete_data.index))\n",
    "no_patients = len(patient_IDs)\n",
    "print(singapore_complete_data.shape)\n",
    "\n",
    "singapore_cog_data = pd.read_csv(\"/Users/lirui/Downloads/gmlvq-python-rui/OPTIMAL_Data/HARMONISATION/Marco_Email_30_11/Singapore_data_Marco_standardized_cog_scores.csv\", header=0, index_col=0)\n",
    "singapore_cog_data.index -= 1\n",
    "patient_IDs_cog = np.unique(np.array(singapore_cog_data.index))\n",
    "print(singapore_cog_data.shape)\n",
    "\n",
    "for col in singapore_cog_data.columns:\n",
    "    if col == 'PID':\n",
    "        continue\n",
    "    else:\n",
    "        if col in singapore_complete_data.columns:\n",
    "            #print(\"Replaced:\", col)\n",
    "            singapore_complete_data.loc[:, [col]] = singapore_cog_data[[col]]\n",
    "        else:\n",
    "            #print('Added:', col)\n",
    "            singapore_complete_data = singapore_complete_data.merge(singapore_cog_data[['PID',col]], how='left', on='PID')\n",
    "\n",
    "singapore_complete_data.to_csv('/Users/lirui/Downloads/gmlvq-python-rui/OPTIMAL_Data/HARMONISATION/Rui_Combined_Data.csv', index=True)"
   ]
  },
  {
   "cell_type": "markdown",
   "metadata": {},
   "source": [
    "#### Compute survival data (No Need to Run Again)"
   ]
  },
  {
   "cell_type": "code",
   "execution_count": null,
   "metadata": {},
   "outputs": [],
   "source": [
    "firstvisit_dementia_df = pd.read_excel('/Users/lirui/Downloads/gmlvq-python-rui/OPTIMAL_Data/HARMONISATION/5_year_follow_up/Data_time_dementia1.xlsx')\n",
    "firstvisit_dementia_IDs = firstvisit_dementia_df['PID'].tolist()\n",
    "firstvisit_dementia_df = firstvisit_dementia_df.set_index('PID')\n",
    "\n",
    "five_year_df = pd.read_csv('/Users/lirui/Downloads/gmlvq-python-rui/OPTIMAL_Data/HARMONISATION/5_year_follow_up/5_year_updated_data.csv')\n",
    "five_year_IDs = five_year_df['PID'].tolist()\n",
    "five_year_df = five_year_df.set_index('PID')\n",
    "\n",
    "lastvisit_dementia_df = pd.read_excel('/Users/lirui/Downloads/gmlvq-python-rui/OPTIMAL_Data/HARMONISATION/5_year_follow_up/PID_MCI_HARMONISATION_with dementia dates_SH.xlsx')\n",
    "lastvisit_dementia_IDs = lastvisit_dementia_df['PID'].tolist()\n",
    "lastvisit_dementia_df = lastvisit_dementia_df.set_index('PID')\n",
    "\n",
    "# Check that the files contain same patients\n",
    "try:\n",
    "    firstvisit_dementia_IDs == five_year_IDs == lastvisit_dementia_IDs\n",
    "except:\n",
    "    print('Mismatch in patient IDs!')"
   ]
  },
  {
   "cell_type": "code",
   "execution_count": null,
   "metadata": {},
   "outputs": [],
   "source": [
    "result_df = pd.DataFrame({\n",
    "    'ID': five_year_IDs, \n",
    "    'dementia':five_year_df['Conversion_dementia_up_to_5_years'], \n",
    "    'first_visit_date': firstvisit_dementia_df['Date_of_first_visit']}).set_index('ID')\n",
    "\n",
    "T_list = []\n",
    "end_date_list = []\n",
    "for ID in five_year_IDs:\n",
    "    firstvisit_date = result_df.loc[ID, 'first_visit_date']\n",
    "\n",
    "    # Fill in partially missing data for HD052 and HD123\n",
    "    if ID == 'HD052':\n",
    "        end_date = '07/01/2016'\n",
    "    elif ID == 'HD123':\n",
    "        end_date = '07/01/2013'\n",
    "    elif ID == 'HD487':\n",
    "        end_date = '06/09/2018' # Mid point between the 2 year follow up and the most recent visit.\n",
    "    else:\n",
    "        if result_df.loc[ID, 'dementia'] ==0: # No dementia, find censoring time.\n",
    "            end_date = lastvisit_dementia_df.loc[ID, 'date_of_most_recent_visit']\n",
    "        elif result_df.loc[ID, 'dementia'] ==1:\n",
    "            end_date = lastvisit_dementia_df.loc[ID, 'Date_of_event_dementia']\n",
    "        else:\n",
    "            print('Unrecognised dementia outcome! Please check.')\n",
    "            end_date = 'NA'\n",
    "    \n",
    "    if type(end_date)==str:\n",
    "        try: # if end_date is actual date in string format\n",
    "            end_date = datetime.strptime(end_date, \"%m/%d/%Y\")\n",
    "            end_date_list.append(end_date.strftime('%Y-%m-%d'))\n",
    "        except: # if end_date is not exact date or NA\n",
    "            print(\"Cannot convert end date for patient {}: {}\".format(ID, end_date))\n",
    "            end_date_list.append(end_date)\n",
    "    else: # type is timestamp\n",
    "        end_date_list.append(end_date.strftime('%Y-%m-%d'))\n",
    "\n",
    "    try:\n",
    "        this_T = (end_date-firstvisit_date).days/365\n",
    "        T_list.append(this_T)\n",
    "    except:\n",
    "        T_list.append('NA')\n",
    "        print('Cannot calculate T for patient {}: end_date is {}'.format(ID, end_date))\n",
    "\n",
    "result_df['end_date'] = end_date_list\n",
    "result_df['T_survival'] = T_list\n",
    "result_df = result_df.join(five_year_df['Dementia_subtype'])\n",
    "display(result_df)"
   ]
  },
  {
   "cell_type": "code",
   "execution_count": 4,
   "metadata": {},
   "outputs": [],
   "source": [
    "result_df.to_csv('/Users/lirui/Downloads/gmlvq-python-rui/OPTIMAL_Data/HARMONISATION/Computed_survival_data.csv')"
   ]
  },
  {
   "cell_type": "markdown",
   "id": "9566fc78-bd9f-494d-aeb0-1dd8a8547ef0",
   "metadata": {},
   "source": [
    "#### Read in data and get variables needed"
   ]
  },
  {
   "cell_type": "code",
   "execution_count": null,
   "id": "910a92e9-dc79-44ee-a462-c87dc1131bdd",
   "metadata": {
    "tags": []
   },
   "outputs": [],
   "source": [
    "two_yr_combined_data = pd.read_csv(\"../Cohort_Data/HARMONISATION/Full_data_with_age_std_cog_scores_by_Rui.csv\", header=0, index_col=1)\n",
    "five_yr_survival_data = pd.read_csv(\"../Cohort_Data/HARMONISATION/Computed_survival_data.csv\", header=0, index_col=0)\n",
    "\n",
    "patient_IDs = two_yr_combined_data.index.tolist()\n",
    "print('There are %i patients'%len(patient_IDs))"
   ]
  },
  {
   "cell_type": "code",
   "execution_count": 3,
   "id": "224bdd75-9666-4682-b83b-3436241c0023",
   "metadata": {
    "tags": []
   },
   "outputs": [],
   "source": [
    "numeric_feature_dict = {\n",
    "    'WMH_vol_ml': ['WMHml'],\n",
    "    'num_lacunes':['Total_Lacunes'],\n",
    "    'num_mb': ['CMBs'],\n",
    "    'TBV_ml': ['sum', 'GM_ml', 'WM_ml'],\n",
    "    'WM_vol_ml': ['WM_ml'],\n",
    "    'GM_vol_ml': ['GM_ml'],\n",
    "    'ICV_ml': ['ICVml'],\n",
    "    'PSMD': ['PSMD_baseline'],\n",
    "    'global_cog': ['Global_Rui'],\n",
    "    'EF': ['EF_Rui'], # this is standardized because there is only 1 test for this domain.\n",
    "    'PS': ['PS_Rui'],\n",
    "    'age': ['Age'],\n",
    "    'edu_yrs': ['TotNoYrs'],\n",
    "    'SVDp': ['divSumPerc', 'WMHml', 'GM_ml', 'WM_ml'],\n",
    "    'MMSE': ['V0mmsetotal'],\n",
    "    'MOCA': ['V0mocatotal'],\n",
    "    'dementia_final': ['dementia'],\n",
    "    'T_survival': ['T_survival'],\n",
    "    'dementia_subtype': ['Dementia_subtype'],\n",
    "    'MCI_diagnosis': ['MCI_diagnosis']\n",
    "}\n",
    "\n",
    "categorical_feature_dict = {\n",
    "    'sex': {\n",
    "        'name': 'Gender',\n",
    "        'mapping':{\n",
    "            'Male': 0,\n",
    "            'Female': 1}\n",
    "    },\n",
    "    'HTN': {\n",
    "        'name': 'Hypertension_binary',\n",
    "        'mapping':{\n",
    "            'No': 0,\n",
    "            'Yes': 1}\n",
    "    },\n",
    "    'HC': {\n",
    "        'name': 'Hyperlipidemia_binary',\n",
    "        'mapping':{\n",
    "            'No': 0,\n",
    "            'Yes': 1}\n",
    "    },\n",
    "    'diabetes': {\n",
    "        'name': 'Diabetes_binary',\n",
    "        'mapping':{\n",
    "            'No': 0,\n",
    "            'Yes': 1}\n",
    "    },\n",
    "    'smoking': {\n",
    "        'name': 'Smoking_binary',\n",
    "        'mapping':{\n",
    "            'Never': 0,\n",
    "            'Ever': 1}\n",
    "    }\n",
    "}"
   ]
  },
  {
   "cell_type": "code",
   "execution_count": null,
   "metadata": {},
   "outputs": [],
   "source": [
    "output_data = []\n",
    "for idx, ID in enumerate(patient_IDs):\n",
    "    this_patient_output_data = {'ID': ID}\n",
    "    patient_BL_data = two_yr_combined_data.loc[ID]\n",
    "\n",
    "    for output_feature in list(numeric_feature_dict.keys()):\n",
    "        if len(numeric_feature_dict[output_feature])>1: # combine features\n",
    "                operation = numeric_feature_dict[output_feature][0]\n",
    "                required_feature_names = numeric_feature_dict[output_feature][1:]\n",
    "                feature_value, contains_NA, NA_features = calculate_feature(operation, required_feature_names, patient_BL_data, [], False, output_feature)\n",
    "        else:\n",
    "            if output_feature in ['dementia_final', 'T_survival', 'dementia_subtype']:\n",
    "                feature_value = five_yr_survival_data.loc[ID, numeric_feature_dict[output_feature][0]]\n",
    "            else:\n",
    "                feature_value = patient_BL_data[numeric_feature_dict[output_feature][0]]\n",
    "        this_patient_output_data[output_feature] = feature_value\n",
    "\n",
    "    for output_feature in list(categorical_feature_dict.keys()):\n",
    "        orig_feature = categorical_feature_dict[output_feature]['name']\n",
    "        feature_cat = str(patient_BL_data[orig_feature])\n",
    "        try:\n",
    "            feature_value = categorical_feature_dict[output_feature]['mapping'][feature_cat]\n",
    "        except: #If cannot be mapped, take the feature as it is.\n",
    "            feature_value = patient_BL_data[orig_feature]\n",
    "        this_patient_output_data[output_feature] = feature_value\n",
    "\n",
    "    output_data.append(this_patient_output_data)\n",
    "\n",
    "output_df = pd.DataFrame(output_data)\n",
    "print(output_df.shape)\n",
    "output_df.head()"
   ]
  },
  {
   "cell_type": "code",
   "execution_count": 5,
   "id": "c884f8cd-f6b7-4659-b979-98bc6705e17f",
   "metadata": {},
   "outputs": [],
   "source": [
    "output_df.to_csv('/Users/lirui/Downloads/Cohort_Dementia_Prediction/Cohort_Data/Selected_Data/Data_6.0/original_data/complete_HARMONISATION_265_subjects.csv', index=False)"
   ]
  },
  {
   "cell_type": "markdown",
   "metadata": {},
   "source": [
    "### Check if data is correct."
   ]
  },
  {
   "cell_type": "code",
   "execution_count": 6,
   "metadata": {},
   "outputs": [],
   "source": [
    "ID_list = list(output_df['ID'])\n",
    "\n",
    "assert two_yr_combined_data.loc[ID_list,'WMHml'].dropna().to_list() == output_df['WMH_vol_ml'].dropna().to_list()\n",
    "assert five_yr_survival_data.loc[ID_list,'dementia'].dropna().to_list() == output_df['dementia_final'].dropna().to_list()\n"
   ]
  },
  {
   "cell_type": "code",
   "execution_count": null,
   "metadata": {},
   "outputs": [],
   "source": []
  }
 ],
 "metadata": {
  "interpreter": {
   "hash": "afa1b687e4051124429d6db7cf897a1516ae744e3c74b5d2e8c377ee59ebbf27"
  },
  "kernelspec": {
   "display_name": "Python 3.10.0 ('venv': venv)",
   "language": "python",
   "name": "python3"
  },
  "language_info": {
   "codemirror_mode": {
    "name": "ipython",
    "version": 3
   },
   "file_extension": ".py",
   "mimetype": "text/x-python",
   "name": "python",
   "nbconvert_exporter": "python",
   "pygments_lexer": "ipython3",
   "version": "3.10.0"
  },
  "orig_nbformat": 4
 },
 "nbformat": 4,
 "nbformat_minor": 2
}
