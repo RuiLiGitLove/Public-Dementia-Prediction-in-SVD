{
 "cells": [
  {
   "cell_type": "code",
   "execution_count": null,
   "metadata": {},
   "outputs": [],
   "source": [
    "import seaborn as sns\n",
    "import  matplotlib.pyplot as plt\n",
    "%matplotlib inline\n",
    "import numpy as np\n",
    "import pickle as pkl\n",
    "import pandas as pd\n",
    "from scipy.stats import rankdata\n",
    "import warnings\n",
    "warnings.simplefilter(\"ignore\", UserWarning)\n",
    "from IPython.display import display\n",
    "\n",
    "from Utils.data_preparation import get_feature_set\n",
    "from Utils.plot_utils import plot_diag_lambda_mat, heatmap, annotate_heatmap #plot_full_relevance_matrix,\n",
    "\n",
    "def normalise_vector(x):\n",
    "    normalised_x = (x / np.linalg.norm(x)).ravel()\n",
    "    assert np.abs(np.linalg.norm(normalised_x)-1) < 1e-6\n",
    "    return normalised_x"
   ]
  },
  {
   "cell_type": "markdown",
   "metadata": {},
   "source": [
    "## Compare Feature Ranking"
   ]
  },
  {
   "cell_type": "markdown",
   "metadata": {},
   "source": [
    "### Examine the kernel type of the final SVM model"
   ]
  },
  {
   "cell_type": "code",
   "execution_count": null,
   "metadata": {},
   "outputs": [],
   "source": [
    "# SVM\n",
    "folderpath = '/Users/lirui/Downloads/Cohort_Dementia_Prediction/Classification/Nested_CV_Results/Complete_Case/all_pooled/SVM/Multi/SVM_Multi.pkl'\n",
    "full_results = pkl.load(open(folderpath, 'rb'))\n",
    "final_model = full_results['final_model']\n",
    "final_model.kernel"
   ]
  },
  {
   "cell_type": "markdown",
   "metadata": {},
   "source": [
    "### Examine a single model"
   ]
  },
  {
   "cell_type": "code",
   "execution_count": null,
   "metadata": {},
   "outputs": [],
   "source": [
    "from Utils.plot_utils import plot_diag_lambda_mat\n",
    "\n",
    "model_name = 'Reg_Cox'\n",
    "analysis_type = 'Survival'\n",
    "\n",
    "featureset_name = 'Multi'\n",
    "input_variables_to_print, FS_name, var_description, cat_feature_indices = get_feature_set(featureset_name)\n",
    "\n",
    "folderpath = '/Users/lirui/Downloads/Cohort_Dementia_Prediction/{}/Nested_CV_Results/Complete_Case/all_pooled/{}/Multi/{}_Multi.pkl'.format(analysis_type, model_name, model_name)\n",
    "full_results = pkl.load(open(folderpath, 'rb'))\n",
    "final_input_scaler = full_results['final_input_scaler']\n",
    "final_model = full_results['final_model']\n"
   ]
  },
  {
   "cell_type": "code",
   "execution_count": null,
   "metadata": {},
   "outputs": [],
   "source": [
    "cont_feature_indices = [i for i in np.arange(len(input_variables_to_print)) if i not in cat_feature_indices]\n",
    "cont_features = [input_variables_to_print[i] for i in cont_feature_indices]\n",
    "pd.DataFrame.from_dict({\n",
    "    'Features': cont_features,\n",
    "    'Means': final_input_scaler.mean_,\n",
    "    'SD': np.sqrt(final_input_scaler.var_)\n",
    "})"
   ]
  },
  {
   "cell_type": "code",
   "execution_count": null,
   "metadata": {},
   "outputs": [],
   "source": [
    "print('Model coefficients:', final_model.coef_.ravel())\n",
    "pd.DataFrame.from_dict({\n",
    "    'Features': input_variables_to_print,\n",
    "    'Values': final_model.coef_.ravel()\n",
    "})\n"
   ]
  },
  {
   "cell_type": "markdown",
   "metadata": {},
   "source": [
    "### Feature ranking by inspecting the final models"
   ]
  },
  {
   "cell_type": "code",
   "execution_count": null,
   "metadata": {},
   "outputs": [],
   "source": [
    "featureset_name = 'Multi'\n",
    "input_variables_to_print, FS_name, var_description, cat_feature_indices = get_feature_set(featureset_name)\n",
    "print(input_variables_to_print)\n",
    "filepaths = {\n",
    "    'Logistic': '/Users/lirui/Downloads/Cohort_Dementia_Prediction/Classification/Nested_CV_Results/Complete_Case/all_pooled/Logistic/Multi/Logistic_Multi.pkl',\n",
    "    'Reg_Logistic': '/Users/lirui/Downloads/Cohort_Dementia_Prediction/Classification/Nested_CV_Results/Complete_Case/all_pooled/Reg_Logistic/Multi/Reg_Logistic_Multi.pkl',\n",
    "    'GMLVQ': '/Users/lirui/Downloads/Cohort_Dementia_Prediction/Classification/Nested_CV_Results/Complete_Case/all_pooled/GMLVQ/Multi/GMLVQ_Multi.pkl',\n",
    "    'GRLVQ': '/Users/lirui/Downloads/Cohort_Dementia_Prediction/Classification/Nested_CV_Results/Complete_Case/all_pooled/GRLVQ/Multi/GRLVQ_Multi.pkl',\n",
    "    'CoxPH': '/Users/lirui/Downloads/Cohort_Dementia_Prediction/Survival/Nested_CV_Results/Complete_Case/all_pooled/CoxPH/Multi/CoxPH_Multi.pkl',\n",
    "    'Reg_Cox': '/Users/lirui/Downloads/Cohort_Dementia_Prediction/Survival/Nested_CV_Results/Complete_Case/all_pooled/Reg_Cox/Multi/Reg_Cox_Multi.pkl'\n",
    "}"
   ]
  },
  {
   "cell_type": "code",
   "execution_count": null,
   "metadata": {},
   "outputs": [],
   "source": [
    "# Get normalised feature importance\n",
    "normalised_feature_importance = {}\n",
    "for model_name in list(filepaths.keys()):\n",
    "    final_model = pkl.load(\n",
    "        open(filepaths[model_name], 'rb')\n",
    "    )['final_model']\n",
    "    if model_name in ['Logistic', 'Reg_Logistic', 'CoxPH', 'Reg_Cox']:\n",
    "        normalised_coef = normalise_vector(final_model.coef_.ravel())\n",
    "    elif model_name == 'GMLVQ':\n",
    "        normalised_coef = normalise_vector(np.diag(final_model.lambda_))\n",
    "    elif model_name == 'GRLVQ':\n",
    "        normalised_coef = normalise_vector(final_model.lambda_)\n",
    "    else:\n",
    "        print('Unrecognised model type!')\n",
    "    normalised_feature_importance[model_name] = normalised_coef\n",
    "\n",
    "normalised_feature_importance_dict = pd.DataFrame.from_dict(normalised_feature_importance, orient='index', columns=input_variables_to_print)\n",
    "\n",
    "normalised_feature_importance_dict.to_csv('/Users/lirui/Downloads/Cohort_Dementia_Prediction/Feature_Importance/Complete_Case_All_Pooled/Normalised_Feature_Importance.csv', index=True)\n"
   ]
  },
  {
   "cell_type": "code",
   "execution_count": null,
   "metadata": {},
   "outputs": [],
   "source": [
    "# Get feature ranking\n",
    "results_df = pd.DataFrame.from_dict({'Rank': 1+np.arange(len(input_variables_to_print))})\n",
    "for model_name in list(filepaths.keys()):\n",
    "    final_model = pkl.load(\n",
    "        open(filepaths[model_name], 'rb')\n",
    "    )['final_model']\n",
    "    if model_name in ['Logistic', 'Reg_Logistic', 'CoxPH', 'Reg_Cox']:\n",
    "        coef = final_model.coef_.ravel()\n",
    "    elif model_name == 'GMLVQ':\n",
    "        coef = np.diag(final_model.lambda_)\n",
    "    elif model_name == 'GRLVQ':\n",
    "        coef = final_model.lambda_.ravel()\n",
    "    else:\n",
    "        print('Unrecognised model type!')\n",
    "    weights = np.abs(coef)\n",
    "\n",
    "    ranks = rankdata(-1*weights, 'min')\n",
    "\n",
    "    results_df_for_this_model = pd.DataFrame.from_dict({\n",
    "        model_name: input_variables_to_print,\n",
    "        model_name+' Original Coefficients': coef,\n",
    "        model_name+' Rank': ranks\n",
    "    }, orient='columns')\n",
    "    results_df_for_this_model = results_df_for_this_model.sort_values(model_name+' Rank', axis=0, ascending=True).reset_index(drop=True)\n",
    "    results_df = pd.concat([results_df, results_df_for_this_model], axis=1)\n",
    "\n",
    "display(results_df)\n"
   ]
  },
  {
   "cell_type": "code",
   "execution_count": null,
   "metadata": {},
   "outputs": [],
   "source": [
    "results_df.to_csv('/Users/lirui/Downloads/Cohort_Dementia_Prediction/Feature_Importance/Complete_Case_All_Pooled/Feature_Ranking.csv', index=False)"
   ]
  },
  {
   "cell_type": "markdown",
   "metadata": {},
   "source": [
    "### Feature ranking by ablation study"
   ]
  },
  {
   "cell_type": "code",
   "execution_count": null,
   "metadata": {},
   "outputs": [],
   "source": [
    "model = 'SVM'\n",
    "rank_metric = 'ROC-AUC' #ROC-AUC/Harrell_C\n",
    "analysis = 'Classification' # Classification/Survival\n",
    "rank_dataset = 'test'\n",
    "ablation_results_folderpath = '/Users/lirui/Downloads/Cohort_Dementia_Prediction/{}/Nested_CV_Results/Complete_Case/all_pooled/{}/Ablation_Study'.format(analysis, model)\n",
    "\n",
    "multi_var_results_folderpath = '/Users/lirui/Downloads/Cohort_Dementia_Prediction/{}/Nested_CV_Results/Complete_Case/all_pooled/{}/Multi'.format(analysis, model)\n",
    "multi_var_results_df = pd.read_csv(multi_var_results_folderpath+'/{}_Multi_summary.csv'.format(model), header=[0,1], index_col=0)\n",
    "multi_var_score = multi_var_results_df.loc['Mean', (rank_metric, rank_dataset)]\n",
    "\n",
    "result = {}\n",
    "multi_variables_to_print, FS_name, var_description, cat_feature_indices = get_feature_set('Multi')\n",
    "for feature in multi_variables_to_print:\n",
    "    results_folderpath_for_feature = ablation_results_folderpath+'/No_'+feature\n",
    "    this_results_df = pd.read_csv(ablation_results_folderpath + '/No_{}/{}_No_{}_summary.csv'.format(feature, model, feature), header=[0,1], index_col=0)\n",
    "    this_score = this_results_df.loc['Mean', (rank_metric, rank_dataset)]\n",
    "\n",
    "    delta = this_score - multi_var_score\n",
    "    result[feature] = delta\n",
    "\n",
    "result_df = pd.DataFrame.from_dict(result, orient='index', columns=['Delta mean metric'])\n",
    "order = result_df['Delta mean metric'].argsort()\n",
    "result_df['Ranking'] = rankdata(result_df['Delta mean metric'].to_numpy(), 'min')\n",
    "result_df = result_df.sort_values('Ranking', axis=0, ascending=True)\n",
    "display(result_df)\n"
   ]
  },
  {
   "cell_type": "code",
   "execution_count": null,
   "metadata": {},
   "outputs": [],
   "source": [
    "result_df.to_csv('/Users/lirui/Downloads/Cohort_Dementia_Prediction/{}/Nested_CV_Results/Complete_Case/all_pooled/{}/Ablation_Study/{}_Feature_Ranking_by_{}.csv'.format(analysis, model, model, rank_metric))"
   ]
  },
  {
   "cell_type": "markdown",
   "metadata": {},
   "source": [
    "## Inpect into a trained LVQ model"
   ]
  },
  {
   "cell_type": "code",
   "execution_count": null,
   "metadata": {},
   "outputs": [],
   "source": [
    "def plot_full_relevance_matrix(matrix, labels, savepath=None, showfig=False, cmap='YlGn', center=0):\n",
    "    fig, ax = plt.subplots(1,1,figsize=(12,10))\n",
    "    im, cbar = heatmap(matrix, labels, labels, ax=ax, cmap=cmap)\n",
    "    texts = annotate_heatmap(im, valfmt=\"{x:.2f}\")\n",
    "    #fig.suptitle(\"Relevance Matrix from GMLVQ Model\")\n",
    "    fig.tight_layout()\n",
    "    if showfig==True:\n",
    "        plt.show()\n",
    "    if savepath!=None:\n",
    "        fig.savefig(savepath)"
   ]
  },
  {
   "cell_type": "code",
   "execution_count": null,
   "metadata": {},
   "outputs": [],
   "source": [
    "featureset_name = 'Multi'\n",
    "input_variables_to_print, FS_name, var_description, cat_feature_indices = get_feature_set(featureset_name)\n",
    "folderpath = '/Users/lirui/Downloads/Cohort_Dementia_Prediction/Classification/Nested_CV_Results/Complete_Case/all_pooled/GMLVQ/Multi/GMLVQ_Multi.pkl'\n",
    "full_results = pkl.load( open(folderpath, 'rb'))\n",
    "final_model = full_results['final_model']"
   ]
  },
  {
   "cell_type": "code",
   "execution_count": null,
   "metadata": {},
   "outputs": [],
   "source": [
    "fig, ax = plt.subplots(1,1, figsize=(10,8))\n",
    "ax = sns.heatmap(\n",
    "    final_model.lambda_, \n",
    "    vmin=-0.3, \n",
    "    vmax=0.35, \n",
    "    annot=True, \n",
    "    fmt='.2f', \n",
    "    linewidths=2, \n",
    "    cmap='coolwarm',\n",
    "    ax=ax)\n",
    "ax.set_xticklabels(input_variables_to_print, fontsize=12)\n",
    "ax.set_yticklabels(input_variables_to_print, fontsize=12)\n",
    "ax.set_xlabel('Feature', fontsize=14)\n",
    "plt.setp(ax.get_xticklabels(), rotation=36, ha=\"right\",rotation_mode=\"anchor\")\n",
    "#plt.setp(ax.get_yticklabels(), rotation=90, ha=\"right\",rotation_mode=\"anchor\")\n",
    "plt.yticks(rotation=0) \n",
    "plt.title('Relevance Matrix ' + r'$\\Lambda$'+' with Multimodal Feature Set 1', fontsize=14)\n",
    "plt.tight_layout()\n",
    "plt.show()"
   ]
  },
  {
   "cell_type": "code",
   "execution_count": null,
   "metadata": {},
   "outputs": [],
   "source": [
    "fig.savefig('/Users/lirui/Downloads/Cohort_Dementia_Prediction/Classification/Nested_CV_Results/GMLVQ/external_harmo_only/inner_rank_AUC/transformed/4_year_outcome/multimodal_1_16_var/full_relevance_matrix.png')"
   ]
  },
  {
   "cell_type": "code",
   "execution_count": null,
   "metadata": {},
   "outputs": [],
   "source": [
    "feature_dim = final_model.lambda_.shape[0]\n",
    "fig,ax = plt.subplots(figsize=(2.3,9))\n",
    "ax.set_xlabel(\"Weight\", fontsize=14)\n",
    "ax.set_yticklabels([]) # Hide the left y-axis tick-labels\n",
    "ax.set_yticks([]) # Hide the left y-axis ticks\n",
    "ax.grid(True, axis='x')\n",
    "\n",
    "ax1 = ax.twinx() # Create a twin x-axis\n",
    "ax1.barh(range(feature_dim), np.diag(final_model.lambda_), align='center') # Plot using `ax1` instead of `ax`\n",
    "ax1.set_yticks(range(feature_dim))\n",
    "ax1.set_yticklabels(input_variables_to_print)\n",
    "ax1.invert_yaxis()  # labels read top-to-bottom\n",
    "ax.invert_xaxis()\n",
    "\n",
    "plt.show()\n"
   ]
  },
  {
   "cell_type": "code",
   "execution_count": null,
   "metadata": {},
   "outputs": [],
   "source": [
    "fig.savefig('/Users/lirui/Downloads/Cohort_Dementia_Prediction/Classification/Nested_CV_Results/Complete_Case/all_pooled/GMLVQ/Multi/vertical_diag_lambda.png')"
   ]
  },
  {
   "cell_type": "code",
   "execution_count": null,
   "metadata": {},
   "outputs": [],
   "source": [
    "full_results = pkl.load( open('/Users/lirui/Downloads/Cohort_Dementia_Prediction/Classification/Nested_CV_Results/Complete_Case/all_pooled/GRLVQ/Multi/GRLVQ_Multi.pkl', 'rb'))\n",
    "final_model = full_results['final_model']\n",
    "\n",
    "input_variables_to_print, FS_name, var_description, cat_feature_indices = get_feature_set('Multi')\n",
    "plot_diag_lambda_mat(final_model.lambda_, input_variables_to_print, 'GRLVQ', savepath='/Users/lirui/Downloads/Cohort_Dementia_Prediction/Classification/Nested_CV_Results/Complete_Case/all_pooled/GRLVQ/Multi/horizontal_diag_lambda.png', vertical_plot=False)"
   ]
  }
 ],
 "metadata": {
  "kernelspec": {
   "display_name": "Python 3.10.0 64-bit",
   "language": "python",
   "name": "python3"
  },
  "language_info": {
   "codemirror_mode": {
    "name": "ipython",
    "version": 3
   },
   "file_extension": ".py",
   "mimetype": "text/x-python",
   "name": "python",
   "nbconvert_exporter": "python",
   "pygments_lexer": "ipython3",
   "version": "3.10.0"
  },
  "orig_nbformat": 4,
  "vscode": {
   "interpreter": {
    "hash": "aee8b7b246df8f9039afb4144a1f6fd8d2ca17a180786b69acc140d282b71a49"
   }
  }
 },
 "nbformat": 4,
 "nbformat_minor": 2
}
